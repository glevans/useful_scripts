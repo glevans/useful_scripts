{
  "nbformat": 4,
  "nbformat_minor": 0,
  "metadata": {
    "colab": {
      "provenance": [],
      "authorship_tag": "ABX9TyMfiNQ9Kaz17WqatQq4Q0CR",
      "include_colab_link": true
    },
    "kernelspec": {
      "name": "python3",
      "display_name": "Python 3"
    },
    "language_info": {
      "name": "python"
    }
  },
  "cells": [
    {
      "cell_type": "markdown",
      "metadata": {
        "id": "view-in-github",
        "colab_type": "text"
      },
      "source": [
        "<a href=\"https://colab.research.google.com/github/glevans/useful_scripts_outreach/blob/main/notebooks/generate_qrcodes.ipynb\" target=\"_parent\"><img src=\"https://colab.research.google.com/assets/colab-badge.svg\" alt=\"Open In Colab\"/></a>"
      ]
    },
    {
      "cell_type": "markdown",
      "source": [
        "Running the code to generate QR codes in BASH"
      ],
      "metadata": {
        "id": "D0ifRbpbGYFt"
      }
    },
    {
      "cell_type": "code",
      "execution_count": 1,
      "metadata": {
        "colab": {
          "base_uri": "https://localhost:8080/",
          "height": 0
        },
        "id": "ldMKPUW6EPaO",
        "outputId": "1d0cda40-e4ad-43d6-f582-34dbf1806365"
      },
      "outputs": [
        {
          "output_type": "stream",
          "name": "stdout",
          "text": [
            "Collecting qrcode\n",
            "  Downloading qrcode-8.2-py3-none-any.whl.metadata (17 kB)\n",
            "Downloading qrcode-8.2-py3-none-any.whl (45 kB)\n",
            "\u001b[2K   \u001b[90m━━━━━━━━━━━━━━━━━━━━━━━━━━━━━━━━━━━━━━━━\u001b[0m \u001b[32m46.0/46.0 kB\u001b[0m \u001b[31m1.7 MB/s\u001b[0m eta \u001b[36m0:00:00\u001b[0m\n",
            "\u001b[?25hInstalling collected packages: qrcode\n",
            "Successfully installed qrcode-8.2\n"
          ]
        }
      ],
      "source": [
        "!pip install qrcode"
      ]
    },
    {
      "cell_type": "code",
      "source": [
        "!qr \"https://wwwdev.ebi.ac.uk/pdbe/entry/pdb/4wkg?activeTab=summary\" > \"4wkg.png\""
      ],
      "metadata": {
        "id": "CxCQhDTqEd_6"
      },
      "execution_count": 2,
      "outputs": []
    },
    {
      "cell_type": "code",
      "source": [
        "!qr \"https://wwwdev.ebi.ac.uk/pdbe/entry/pdb/4y33?activeTab=summary\" > \"4y33.png\""
      ],
      "metadata": {
        "id": "6DGpa9kgbtBn"
      },
      "execution_count": 3,
      "outputs": []
    },
    {
      "cell_type": "markdown",
      "source": [
        "This should generate two files in 'content' folder that can be downloaded as required.\n",
        "\n",
        "\n",
        "<br>\n",
        "\n",
        "\n",
        "---\n",
        "\n"
      ],
      "metadata": {
        "id": "amoaH9xeFhCK"
      }
    },
    {
      "cell_type": "markdown",
      "source": [
        "Running the code to generate QR codes in PYTHON"
      ],
      "metadata": {
        "id": "9F__COmEGggA"
      }
    },
    {
      "cell_type": "code",
      "source": [
        "# Replace value for pdb_id with the pdb id of interest\n",
        "pdb_id = \"4wkg\"\n",
        "beta_entry_weblink = f\"https://wwwdev.ebi.ac.uk/pdbe/entry/pdb/{pdb_id}?activeTab=summary\"\n",
        "regular_entry_weblink = f\"https://www.ebi.ac.uk/pdbe/entry/pdb/{pdb_id}\"\n",
        "threedview_entry = f\"https://www.ebi.ac.uk/pdbe/entry/view3D/{pdb_id}/?view=entry_index&viewer=litemol&assembly=1\""
      ],
      "metadata": {
        "id": "CXXCk4fjFvk0"
      },
      "execution_count": 27,
      "outputs": []
    },
    {
      "cell_type": "code",
      "source": [
        "# Indicated weblink of interest by removing or adding hash as appropriate\n",
        "weblink = beta_entry_weblink\n",
        "#weblink = regular_entry_weblink\n",
        "#weblink = threedview_entry\n",
        "\n",
        "print(weblink)"
      ],
      "metadata": {
        "colab": {
          "base_uri": "https://localhost:8080/"
        },
        "id": "iGMho0EzFPf9",
        "outputId": "60c1a96a-86ad-4dda-8873-64f9b1a9a23f"
      },
      "execution_count": 28,
      "outputs": [
        {
          "output_type": "stream",
          "name": "stdout",
          "text": [
            "https://wwwdev.ebi.ac.uk/pdbe/entry/pdb/4wkg?activeTab=summary\n"
          ]
        }
      ]
    },
    {
      "cell_type": "code",
      "source": [
        "import requests\n",
        "\n",
        "# URL of the image\n",
        "url = \"https://www.ebi.ac.uk/pdbe/sites/default/files/2019-04/PDBe-logo-RGB_2013.png\"\n",
        "\n",
        "# Download the image\n",
        "response = requests.get(url)\n",
        "\n",
        "# Save the image locally in Colab\n",
        "with open(\"PDBe-logo.png\", \"wb\") as f:\n",
        "    f.write(response.content)\n",
        "\n",
        "print(\"Image downloaded and saved as 'PDBe-logo.png'\")"
      ],
      "metadata": {
        "colab": {
          "base_uri": "https://localhost:8080/"
        },
        "id": "vC771XYOJH1l",
        "outputId": "d2a10191-651f-4796-d0e5-8f2afcaab4d7"
      },
      "execution_count": 29,
      "outputs": [
        {
          "output_type": "stream",
          "name": "stdout",
          "text": [
            "Image downloaded and saved as 'PDBe-logo.png'\n"
          ]
        }
      ]
    },
    {
      "cell_type": "code",
      "source": [
        "import qrcode\n",
        "from PIL import Image\n",
        "\n",
        "# Create QR code instance\n",
        "qr = qrcode.QRCode(\n",
        "    version=4,\n",
        "    error_correction=qrcode.constants.ERROR_CORRECT_H,  # High error correction to allow logo overlay\n",
        "    box_size=10,\n",
        "    border=4,\n",
        ")\n",
        "\n",
        "# Add data to the QR code\n",
        "qr.add_data(weblink)\n",
        "qr.make(fit=True)\n",
        "\n",
        "# Generate QR code image\n",
        "qr_img = qr.make_image(fill_color=\"black\", back_color=\"white\").convert('RGB')\n",
        "\n",
        "# Load your custom logo\n",
        "logo_path = \"PDBe-logo.png\"  # Replace with your actual logo file path\n",
        "logo = Image.open(logo_path)\n",
        "\n",
        "# Resize logo\n",
        "logo_size = 120\n",
        "logo = logo.resize((logo_size, logo_size), Image.Resampling.LANCZOS)\n",
        "\n",
        "# Calculate position to paste the logo at the center\n",
        "qr_width, qr_height = qr_img.size\n",
        "logo_position = ((qr_width - logo_size) // 2, (qr_height - logo_size) // 2)\n",
        "\n",
        "# Paste the logo onto the QR code\n",
        "qr_img.paste(logo, logo_position, mask=logo if logo.mode == 'RGBA' else None)\n",
        "\n",
        "# Save the final image\n",
        "qr_img.save(f\"{pdb_id}_wlogo.png\")"
      ],
      "metadata": {
        "id": "fysshIQaFr0O"
      },
      "execution_count": 33,
      "outputs": []
    }
  ]
}